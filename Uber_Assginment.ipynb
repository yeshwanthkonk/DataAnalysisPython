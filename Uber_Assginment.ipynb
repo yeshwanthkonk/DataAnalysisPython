{
 "cells": [
  {
   "cell_type": "code",
   "execution_count": 129,
   "metadata": {},
   "outputs": [],
   "source": [
    "import numpy as np\n",
    "import pandas as pd\n",
    "import matplotlib.pyplot as plt\n",
    "import seaborn as sns\n",
    "import warnings\n",
    "%matplotlib inline"
   ]
  },
  {
   "cell_type": "code",
   "execution_count": 41,
   "metadata": {},
   "outputs": [],
   "source": [
    "df = pd.read_csv(r'E:\\LPU\\Placements\\Upgrad\\EDA_Statistics\\Tableau\\Uber Request Data.csv')"
   ]
  },
  {
   "cell_type": "markdown",
   "metadata": {},
   "source": [
    "## Data Cleaning"
   ]
  },
  {
   "cell_type": "code",
   "execution_count": 42,
   "metadata": {},
   "outputs": [
    {
     "data": {
      "text/html": [
       "<div>\n",
       "<style scoped>\n",
       "    .dataframe tbody tr th:only-of-type {\n",
       "        vertical-align: middle;\n",
       "    }\n",
       "\n",
       "    .dataframe tbody tr th {\n",
       "        vertical-align: top;\n",
       "    }\n",
       "\n",
       "    .dataframe thead th {\n",
       "        text-align: right;\n",
       "    }\n",
       "</style>\n",
       "<table border=\"1\" class=\"dataframe\">\n",
       "  <thead>\n",
       "    <tr style=\"text-align: right;\">\n",
       "      <th></th>\n",
       "      <th>Request id</th>\n",
       "      <th>Pickup point</th>\n",
       "      <th>Driver id</th>\n",
       "      <th>Status</th>\n",
       "      <th>Request timestamp</th>\n",
       "      <th>Drop timestamp</th>\n",
       "    </tr>\n",
       "  </thead>\n",
       "  <tbody>\n",
       "    <tr>\n",
       "      <th>0</th>\n",
       "      <td>619</td>\n",
       "      <td>Airport</td>\n",
       "      <td>1.0</td>\n",
       "      <td>Trip Completed</td>\n",
       "      <td>11-07-2016 11:51</td>\n",
       "      <td>11-07-2016 13:00</td>\n",
       "    </tr>\n",
       "    <tr>\n",
       "      <th>1</th>\n",
       "      <td>867</td>\n",
       "      <td>Airport</td>\n",
       "      <td>1.0</td>\n",
       "      <td>Trip Completed</td>\n",
       "      <td>11-07-2016 17:57</td>\n",
       "      <td>11-07-2016 18:47</td>\n",
       "    </tr>\n",
       "    <tr>\n",
       "      <th>2</th>\n",
       "      <td>1807</td>\n",
       "      <td>City</td>\n",
       "      <td>1.0</td>\n",
       "      <td>Trip Completed</td>\n",
       "      <td>12-07-2016 09:17</td>\n",
       "      <td>12-07-2016 09:58</td>\n",
       "    </tr>\n",
       "    <tr>\n",
       "      <th>3</th>\n",
       "      <td>2532</td>\n",
       "      <td>Airport</td>\n",
       "      <td>1.0</td>\n",
       "      <td>Trip Completed</td>\n",
       "      <td>12-07-2016 21:08</td>\n",
       "      <td>12-07-2016 22:03</td>\n",
       "    </tr>\n",
       "    <tr>\n",
       "      <th>4</th>\n",
       "      <td>3112</td>\n",
       "      <td>City</td>\n",
       "      <td>1.0</td>\n",
       "      <td>Trip Completed</td>\n",
       "      <td>13-07-2016 08:33</td>\n",
       "      <td>13-07-2016 09:25</td>\n",
       "    </tr>\n",
       "  </tbody>\n",
       "</table>\n",
       "</div>"
      ],
      "text/plain": [
       "   Request id Pickup point  Driver id          Status Request timestamp  \\\n",
       "0         619      Airport        1.0  Trip Completed  11-07-2016 11:51   \n",
       "1         867      Airport        1.0  Trip Completed  11-07-2016 17:57   \n",
       "2        1807         City        1.0  Trip Completed  12-07-2016 09:17   \n",
       "3        2532      Airport        1.0  Trip Completed  12-07-2016 21:08   \n",
       "4        3112         City        1.0  Trip Completed  13-07-2016 08:33   \n",
       "\n",
       "     Drop timestamp  \n",
       "0  11-07-2016 13:00  \n",
       "1  11-07-2016 18:47  \n",
       "2  12-07-2016 09:58  \n",
       "3  12-07-2016 22:03  \n",
       "4  13-07-2016 09:25  "
      ]
     },
     "execution_count": 42,
     "metadata": {},
     "output_type": "execute_result"
    }
   ],
   "source": [
    "df.head()"
   ]
  },
  {
   "cell_type": "code",
   "execution_count": 179,
   "metadata": {
    "scrolled": true
   },
   "outputs": [
    {
     "name": "stdout",
     "output_type": "stream",
     "text": [
      "<class 'pandas.core.frame.DataFrame'>\n",
      "RangeIndex: 6745 entries, 0 to 6744\n",
      "Data columns (total 10 columns):\n",
      "Request id           6745 non-null int64\n",
      "Pickup point         6745 non-null object\n",
      "Driver id            6745 non-null int64\n",
      "Status               6745 non-null object\n",
      "Request timestamp    6745 non-null object\n",
      "Drop timestamp       2831 non-null object\n",
      "Requesting_Hours     6745 non-null int64\n",
      "Requesting_Date      6745 non-null object\n",
      "Requesting_Time      6745 non-null object\n",
      "Droped_Time          2831 non-null object\n",
      "dtypes: int64(3), object(7)\n",
      "memory usage: 527.0+ KB\n"
     ]
    }
   ],
   "source": [
    "df.info()"
   ]
  },
  {
   "cell_type": "code",
   "execution_count": 173,
   "metadata": {},
   "outputs": [],
   "source": [
    "df['Driver id'] = df['Driver id'].fillna(0)\n",
    "#df['Driver id'].isnull()"
   ]
  },
  {
   "cell_type": "code",
   "execution_count": 176,
   "metadata": {},
   "outputs": [],
   "source": [
    "#\n",
    "df['Driver id'] = df['Driver id'].astype('int64')"
   ]
  },
  {
   "cell_type": "code",
   "execution_count": 44,
   "metadata": {},
   "outputs": [],
   "source": [
    "#Creating Requesting Hours column to visualize the most demanding slot\n",
    "df[\"Requesting_Hours\"] = pd.DatetimeIndex(df['Request timestamp']).hour"
   ]
  },
  {
   "cell_type": "code",
   "execution_count": 45,
   "metadata": {},
   "outputs": [],
   "source": [
    "#Creating Requesting Date column\n",
    "df[\"Requesting_Date\"] = pd.DatetimeIndex(df['Request timestamp']).date"
   ]
  },
  {
   "cell_type": "code",
   "execution_count": 46,
   "metadata": {},
   "outputs": [],
   "source": [
    "#Creating Requesting Time column\n",
    "df[\"Requesting_Time\"] = pd.DatetimeIndex(df['Request timestamp']).time"
   ]
  },
  {
   "cell_type": "code",
   "execution_count": 51,
   "metadata": {},
   "outputs": [],
   "source": [
    "#Creating Dropping Time column\n",
    "df[\"Droped_Time\"] = pd.DatetimeIndex(df['Drop timestamp']).time"
   ]
  },
  {
   "cell_type": "code",
   "execution_count": 177,
   "metadata": {},
   "outputs": [
    {
     "data": {
      "text/html": [
       "<div>\n",
       "<style scoped>\n",
       "    .dataframe tbody tr th:only-of-type {\n",
       "        vertical-align: middle;\n",
       "    }\n",
       "\n",
       "    .dataframe tbody tr th {\n",
       "        vertical-align: top;\n",
       "    }\n",
       "\n",
       "    .dataframe thead th {\n",
       "        text-align: right;\n",
       "    }\n",
       "</style>\n",
       "<table border=\"1\" class=\"dataframe\">\n",
       "  <thead>\n",
       "    <tr style=\"text-align: right;\">\n",
       "      <th></th>\n",
       "      <th>Request id</th>\n",
       "      <th>Pickup point</th>\n",
       "      <th>Driver id</th>\n",
       "      <th>Status</th>\n",
       "      <th>Request timestamp</th>\n",
       "      <th>Drop timestamp</th>\n",
       "      <th>Requesting_Hours</th>\n",
       "      <th>Requesting_Date</th>\n",
       "      <th>Requesting_Time</th>\n",
       "      <th>Droped_Time</th>\n",
       "    </tr>\n",
       "  </thead>\n",
       "  <tbody>\n",
       "    <tr>\n",
       "      <th>0</th>\n",
       "      <td>619</td>\n",
       "      <td>Airport</td>\n",
       "      <td>1</td>\n",
       "      <td>Trip Completed</td>\n",
       "      <td>11-07-2016 11:51</td>\n",
       "      <td>11-07-2016 13:00</td>\n",
       "      <td>11</td>\n",
       "      <td>2016-11-07</td>\n",
       "      <td>11:51:00</td>\n",
       "      <td>13:00:00</td>\n",
       "    </tr>\n",
       "    <tr>\n",
       "      <th>1</th>\n",
       "      <td>867</td>\n",
       "      <td>Airport</td>\n",
       "      <td>1</td>\n",
       "      <td>Trip Completed</td>\n",
       "      <td>11-07-2016 17:57</td>\n",
       "      <td>11-07-2016 18:47</td>\n",
       "      <td>17</td>\n",
       "      <td>2016-11-07</td>\n",
       "      <td>17:57:00</td>\n",
       "      <td>18:47:00</td>\n",
       "    </tr>\n",
       "    <tr>\n",
       "      <th>2</th>\n",
       "      <td>1807</td>\n",
       "      <td>City</td>\n",
       "      <td>1</td>\n",
       "      <td>Trip Completed</td>\n",
       "      <td>12-07-2016 09:17</td>\n",
       "      <td>12-07-2016 09:58</td>\n",
       "      <td>9</td>\n",
       "      <td>2016-12-07</td>\n",
       "      <td>09:17:00</td>\n",
       "      <td>09:58:00</td>\n",
       "    </tr>\n",
       "    <tr>\n",
       "      <th>3</th>\n",
       "      <td>2532</td>\n",
       "      <td>Airport</td>\n",
       "      <td>1</td>\n",
       "      <td>Trip Completed</td>\n",
       "      <td>12-07-2016 21:08</td>\n",
       "      <td>12-07-2016 22:03</td>\n",
       "      <td>21</td>\n",
       "      <td>2016-12-07</td>\n",
       "      <td>21:08:00</td>\n",
       "      <td>22:03:00</td>\n",
       "    </tr>\n",
       "    <tr>\n",
       "      <th>4</th>\n",
       "      <td>3112</td>\n",
       "      <td>City</td>\n",
       "      <td>1</td>\n",
       "      <td>Trip Completed</td>\n",
       "      <td>13-07-2016 08:33</td>\n",
       "      <td>13-07-2016 09:25</td>\n",
       "      <td>8</td>\n",
       "      <td>2016-07-13</td>\n",
       "      <td>08:33:00</td>\n",
       "      <td>09:25:00</td>\n",
       "    </tr>\n",
       "  </tbody>\n",
       "</table>\n",
       "</div>"
      ],
      "text/plain": [
       "   Request id Pickup point  Driver id          Status Request timestamp  \\\n",
       "0         619      Airport          1  Trip Completed  11-07-2016 11:51   \n",
       "1         867      Airport          1  Trip Completed  11-07-2016 17:57   \n",
       "2        1807         City          1  Trip Completed  12-07-2016 09:17   \n",
       "3        2532      Airport          1  Trip Completed  12-07-2016 21:08   \n",
       "4        3112         City          1  Trip Completed  13-07-2016 08:33   \n",
       "\n",
       "     Drop timestamp  Requesting_Hours Requesting_Date Requesting_Time  \\\n",
       "0  11-07-2016 13:00                11      2016-11-07        11:51:00   \n",
       "1  11-07-2016 18:47                17      2016-11-07        17:57:00   \n",
       "2  12-07-2016 09:58                 9      2016-12-07        09:17:00   \n",
       "3  12-07-2016 22:03                21      2016-12-07        21:08:00   \n",
       "4  13-07-2016 09:25                 8      2016-07-13        08:33:00   \n",
       "\n",
       "  Droped_Time  \n",
       "0    13:00:00  \n",
       "1    18:47:00  \n",
       "2    09:58:00  \n",
       "3    22:03:00  \n",
       "4    09:25:00  "
      ]
     },
     "execution_count": 177,
     "metadata": {},
     "output_type": "execute_result"
    }
   ],
   "source": [
    "df.head(5)"
   ]
  },
  {
   "cell_type": "code",
   "execution_count": 178,
   "metadata": {},
   "outputs": [
    {
     "data": {
      "text/html": [
       "<div>\n",
       "<style scoped>\n",
       "    .dataframe tbody tr th:only-of-type {\n",
       "        vertical-align: middle;\n",
       "    }\n",
       "\n",
       "    .dataframe tbody tr th {\n",
       "        vertical-align: top;\n",
       "    }\n",
       "\n",
       "    .dataframe thead th {\n",
       "        text-align: right;\n",
       "    }\n",
       "</style>\n",
       "<table border=\"1\" class=\"dataframe\">\n",
       "  <thead>\n",
       "    <tr style=\"text-align: right;\">\n",
       "      <th></th>\n",
       "      <th>Request id</th>\n",
       "      <th>Pickup point</th>\n",
       "      <th>Driver id</th>\n",
       "      <th>Status</th>\n",
       "      <th>Request timestamp</th>\n",
       "      <th>Drop timestamp</th>\n",
       "      <th>Requesting_Hours</th>\n",
       "      <th>Requesting_Date</th>\n",
       "      <th>Requesting_Time</th>\n",
       "      <th>Droped_Time</th>\n",
       "    </tr>\n",
       "  </thead>\n",
       "  <tbody>\n",
       "    <tr>\n",
       "      <th>6740</th>\n",
       "      <td>6745</td>\n",
       "      <td>City</td>\n",
       "      <td>0</td>\n",
       "      <td>No Cars Available</td>\n",
       "      <td>15-07-2016 23:49</td>\n",
       "      <td>NaN</td>\n",
       "      <td>23</td>\n",
       "      <td>2016-07-15</td>\n",
       "      <td>23:49:00</td>\n",
       "      <td>NaT</td>\n",
       "    </tr>\n",
       "    <tr>\n",
       "      <th>6741</th>\n",
       "      <td>6752</td>\n",
       "      <td>Airport</td>\n",
       "      <td>0</td>\n",
       "      <td>No Cars Available</td>\n",
       "      <td>15-07-2016 23:50</td>\n",
       "      <td>NaN</td>\n",
       "      <td>23</td>\n",
       "      <td>2016-07-15</td>\n",
       "      <td>23:50:00</td>\n",
       "      <td>NaT</td>\n",
       "    </tr>\n",
       "    <tr>\n",
       "      <th>6742</th>\n",
       "      <td>6751</td>\n",
       "      <td>City</td>\n",
       "      <td>0</td>\n",
       "      <td>No Cars Available</td>\n",
       "      <td>15-07-2016 23:52</td>\n",
       "      <td>NaN</td>\n",
       "      <td>23</td>\n",
       "      <td>2016-07-15</td>\n",
       "      <td>23:52:00</td>\n",
       "      <td>NaT</td>\n",
       "    </tr>\n",
       "    <tr>\n",
       "      <th>6743</th>\n",
       "      <td>6754</td>\n",
       "      <td>City</td>\n",
       "      <td>0</td>\n",
       "      <td>No Cars Available</td>\n",
       "      <td>15-07-2016 23:54</td>\n",
       "      <td>NaN</td>\n",
       "      <td>23</td>\n",
       "      <td>2016-07-15</td>\n",
       "      <td>23:54:00</td>\n",
       "      <td>NaT</td>\n",
       "    </tr>\n",
       "    <tr>\n",
       "      <th>6744</th>\n",
       "      <td>6753</td>\n",
       "      <td>Airport</td>\n",
       "      <td>0</td>\n",
       "      <td>No Cars Available</td>\n",
       "      <td>15-07-2016 23:55</td>\n",
       "      <td>NaN</td>\n",
       "      <td>23</td>\n",
       "      <td>2016-07-15</td>\n",
       "      <td>23:55:00</td>\n",
       "      <td>NaT</td>\n",
       "    </tr>\n",
       "  </tbody>\n",
       "</table>\n",
       "</div>"
      ],
      "text/plain": [
       "      Request id Pickup point  Driver id             Status Request timestamp  \\\n",
       "6740        6745         City          0  No Cars Available  15-07-2016 23:49   \n",
       "6741        6752      Airport          0  No Cars Available  15-07-2016 23:50   \n",
       "6742        6751         City          0  No Cars Available  15-07-2016 23:52   \n",
       "6743        6754         City          0  No Cars Available  15-07-2016 23:54   \n",
       "6744        6753      Airport          0  No Cars Available  15-07-2016 23:55   \n",
       "\n",
       "     Drop timestamp  Requesting_Hours Requesting_Date Requesting_Time  \\\n",
       "6740            NaN                23      2016-07-15        23:49:00   \n",
       "6741            NaN                23      2016-07-15        23:50:00   \n",
       "6742            NaN                23      2016-07-15        23:52:00   \n",
       "6743            NaN                23      2016-07-15        23:54:00   \n",
       "6744            NaN                23      2016-07-15        23:55:00   \n",
       "\n",
       "     Droped_Time  \n",
       "6740         NaT  \n",
       "6741         NaT  \n",
       "6742         NaT  \n",
       "6743         NaT  \n",
       "6744         NaT  "
      ]
     },
     "execution_count": 178,
     "metadata": {},
     "output_type": "execute_result"
    }
   ],
   "source": [
    "df.tail(5)"
   ]
  },
  {
   "cell_type": "markdown",
   "metadata": {},
   "source": [
    "## Visualization"
   ]
  },
  {
   "cell_type": "code",
   "execution_count": 182,
   "metadata": {},
   "outputs": [
    {
     "data": {
      "image/png": "[encoded data removed]",
      "text/plain": [
       "<Figure size 360x360 with 1 Axes>"
      ]
     },
     "metadata": {},
     "output_type": "display_data"
    }
   ],
   "source": [
    "plt.figure(figsize = (5,5))\n",
    "sns.countplot(x = 'Status',data = df) #Count plot shows the frequency distribution of catogeries of specific column\n",
    "plt.savefig(\"1_Frequency_Status.jpg\") #It will save the figure in .jpg format"
   ]
  },
  {
   "cell_type": "code",
   "execution_count": 186,
   "metadata": {},
   "outputs": [],
   "source": [
    "#\n",
    "City_Count = df.groupby(['Pickup point']).get_group('City')\n",
    "City_Count = (City_Count.loc[City_Count['Status']!='Trip Completed','Status'].count()/df['Status'].count())*100\n",
    "#\n",
    "Air_Count = df.groupby(['Pickup point']).get_group('Airport')\n",
    "Air_Count = (Air_Count.loc[Air_Count['Status']!='Trip Completed','Status'].count()/df['Status'].count())*100\n",
    "Air_Count\n",
    "#\n",
    "per = (df.loc[df['Status']=='Trip Completed','Status'].count()/df['Status'].count())*100\n",
    "#\n",
    "size = [City_Count,Air_Count,per]\n",
    "#\n",
    "labels = ('City to Airport','Airport to City','Any Type of request')\n",
    "#\n",
    "colors = ['lightcoral','lightskyblue','yellowgreen']\n",
    "#\n",
    "explode = (0.05, 0.05, 0)"
   ]
  },
  {
   "cell_type": "code",
   "execution_count": 187,
   "metadata": {},
   "outputs": [
    {
     "data": {
      "image/png": "[encoded data removed]",
      "text/plain": [
       "<Figure size 432x288 with 1 Axes>"
      ]
     },
     "metadata": {},
     "output_type": "display_data"
    }
   ],
   "source": [
    "plt.pie(size, explode=explode, labels=labels, colors=colors,autopct='%1.1f%%', shadow=True, startangle=140)\n",
    "plt.axis('equal')\n",
    "warnings.filterwarnings('ignore')\n",
    "plt.savefig(\"2_Problematic_graph\")"
   ]
  },
  {
   "attachments": {},
   "cell_type": "markdown",
   "metadata": {},
   "source": [
    "### The pie chart which shows the type of request. The City  to airport causes the most problem when compared to others.\n",
    "### On Overall 42% is reaching the demand and remaining 29.7% cause is on City to Airport and rest 28.3% is on Airport to city."
   ]
  },
  {
   "cell_type": "code",
   "execution_count": 216,
   "metadata": {},
   "outputs": [
    {
     "data": {
      "image/png": "[encoded data removed]",
      "text/plain": [
       "<Figure size 432x288 with 1 Axes>"
      ]
     },
     "metadata": {},
     "output_type": "display_data"
    }
   ],
   "source": [
    "#sns.countplot(x='Requesting_Hours',data=df)\n",
    "sns.distplot(df['Requesting_Hours'],kde = True,color = 'g')\n",
    "warnings.filterwarnings('ignore')"
   ]
  },
  {
   "attachments": {},
   "cell_type": "markdown",
   "metadata": {},
   "source": [
    "### This graph tells about the overall change in the requesting hours of the customers.\n",
    "### It shows the most peak time is either in early morning or late evening."
   ]
  },
  {
   "cell_type": "code",
   "execution_count": 197,
   "metadata": {},
   "outputs": [],
   "source": [
    "def fun(x):\n",
    "    if(x>=4 and x<=8):\n",
    "        return 'Early Morning'\n",
    "    elif(x>=9 and x<=12):\n",
    "        return 'Morning'\n",
    "    elif(x>=13 and x<=16):\n",
    "        return 'Evening'\n",
    "    elif(x>=17 and x<=21):\n",
    "        return 'Late Evening'\n",
    "    elif(x>=22 and x<=23):\n",
    "        return 'Nights'\n",
    "    else:\n",
    "        return \"Mid Night\"\n",
    "    \n",
    "df['Time_Slot'] = df['Requesting_Hours'].apply(fun)"
   ]
  },
  {
   "cell_type": "code",
   "execution_count": 245,
   "metadata": {},
   "outputs": [
    {
     "data": {
      "image/png": "[encoded data removed]",
      "text/plain": [
       "<Figure size 576x432 with 1 Axes>"
      ]
     },
     "metadata": {},
     "output_type": "display_data"
    }
   ],
   "source": [
    "plt.figure(figsize = (8,6))\n",
    "sns.countplot(x='Time_Slot',data = df[df['Status']!='Trip Completed'])\n",
    "plt.savefig(\"3_TimeSlot\")\n",
    "warnings.filterwarnings('ignore')"
   ]
  },
  {
   "cell_type": "code",
   "execution_count": 232,
   "metadata": {},
   "outputs": [],
   "source": [
    "Demand_EM = df.groupby(\"Time_Slot\").get_group('Early Morning').loc[:,'Request timestamp'].count()\n",
    "Supply_EM = df.groupby(\"Time_Slot\").get_group('Early Morning').loc[df.Droped_Time.notnull(),'Drop timestamp'].count()\n",
    "Demand_LM = df.groupby(\"Time_Slot\").get_group('Late Evening').loc[:,'Request timestamp'].count()\n",
    "Supply_LM = df.groupby(\"Time_Slot\").get_group('Late Evening').loc[df.Droped_Time.notnull(),'Drop timestamp'].count()\n",
    "Demand_M = df.groupby(\"Time_Slot\").get_group('Morning').loc[:,'Request timestamp'].count()\n",
    "Supply_M = df.groupby(\"Time_Slot\").get_group('Morning').loc[df.Droped_Time.notnull(),'Drop timestamp'].count()\n",
    "Demand_E = df.groupby(\"Time_Slot\").get_group('Evening').loc[:,'Request timestamp'].count()\n",
    "Supply_E = df.groupby(\"Time_Slot\").get_group('Evening').loc[df.Droped_Time.notnull(),'Drop timestamp'].count()\n",
    "Demand_N = df.groupby(\"Time_Slot\").get_group('Nights').loc[:,'Request timestamp'].count()\n",
    "Supply_N = df.groupby(\"Time_Slot\").get_group('Nights').loc[df.Droped_Time.notnull(),'Drop timestamp'].count()\n",
    "Demand_MN = df.groupby(\"Time_Slot\").get_group(\"Mid Night\").loc[:,'Request timestamp'].count()\n",
    "Supply_MN = df.groupby(\"Time_Slot\").get_group(\"Mid Night\").loc[df.Droped_Time.notnull(),'Drop timestamp'].count()\n",
    "Demand_EM\n",
    "Supply_EM\n",
    "De = [Demand_EM, Demand_LM, Demand_M, Demand_E, Demand_N, Demand_MN]\n",
    "Su = [Supply_EM, Supply_LM, Supply_M, Supply_E, Supply_N, Supply_MN]\n",
    "index = ['Early Morning', 'Late Evening', 'Morning', 'Evening', 'Nights', \"Mid Night\"]"
   ]
  },
  {
   "attachments": {},
   "cell_type": "markdown",
   "metadata": {},
   "source": [
    "### This bar chart says the Demand-supply bar chart of the cabs according to time\n",
    "### It says there is a huge gap between demand and supply in different slots.\n",
    "### And most is on Late Evening."
   ]
  },
  {
   "cell_type": "code",
   "execution_count": 244,
   "metadata": {},
   "outputs": [
    {
     "data": {
      "image/png": "[encoded data removed]",
      "text/plain": [
       "<Figure size 1080x504 with 1 Axes>"
      ]
     },
     "metadata": {},
     "output_type": "display_data"
    }
   ],
   "source": [
    "Gap = pd.DataFrame({'Demand': De,'Supply': Su}, index=index)\n",
    "Gap.plot.bar(figsize=(15,7))\n",
    "warnings.filterwarnings('ignore')"
   ]
  },
  {
   "cell_type": "markdown",
   "metadata": {},
   "source": [
    "# Some Solutions to Demand and Supply Problem\n"
   ]
  },
  {
   "attachments": {},
   "cell_type": "markdown",
   "metadata": {},
   "source": [
    "### At late evening there is no time supply for the required demand.\n",
    "### Like most of flights coming in to the airport at nights their no cabs at near surroundings.\n",
    "### One is we can appoint more partner cabs at late evening near port with some high fare of 1.5 such he can meet his daily wage.\n",
    "### Or we point new zone as cab point only for cab services at airports."
   ]
  }
 ],
 "metadata": {
  "kernelspec": {
   "display_name": "Python 3",
   "language": "python",
   "name": "python3"
  },
  "language_info": {
   "codemirror_mode": {
    "name": "ipython",
    "version": 3
   },
   "file_extension": ".py",
   "mimetype": "text/x-python",
   "name": "python",
   "nbconvert_exporter": "python",
   "pygments_lexer": "ipython3",
   "version": "3.6.5"
  }
 },
 "nbformat": 4,
 "nbformat_minor": 2
}
